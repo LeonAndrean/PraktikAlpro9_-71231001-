{
 "cells": [
  {
   "cell_type": "code",
   "execution_count": 3,
   "metadata": {},
   "outputs": [
    {
     "name": "stdout",
     "output_type": "stream",
     "text": [
      "Tiga nilai tertinggi jatuh kepada: [140, 107, 100]\n"
     ]
    }
   ],
   "source": [
    "#9.1\n",
    "# Buatlah sebuah program untuk mencari 3 nilai terbaik pada sebuah list.\n",
    "# Program akan menampilkan 3 nilai terbaik dimulai dari paling tinggi\n",
    "\n",
    "nilai_angka = [26, 140, 78, 27, 38, 7, 107, 100, 58, 78, 87]\n",
    "lennya = len(nilai_angka)\n",
    "\n",
    "def tiga_angka_tertinggi(data):\n",
    "    data_sorted = sorted(data, reverse=True)\n",
    "    tiga_tertinggi = []\n",
    "    for i in range(3):\n",
    "        tiga_tertinggi.append(data_sorted[i])\n",
    "    return tiga_tertinggi\n",
    "\n",
    "tiga_tertinggi = tiga_angka_tertinggi(nilai_angka)\n",
    "print(\"Tiga nilai tertinggi jatuh kepada:\", tiga_tertinggi)"
   ]
  },
  {
   "cell_type": "code",
   "execution_count": 2,
   "metadata": {},
   "outputs": [
    {
     "name": "stdout",
     "output_type": "stream",
     "text": [
      "Masukkan beberapa angka (ketik 'done' saat selesai):\n",
      "Kamu sudah selesai memasukkan angkanya jadi:\n",
      "\n",
      "Nilai Max:  192.0 \n",
      "Nilai Min:  2.0\n"
     ]
    }
   ],
   "source": [
    "#9.2\n",
    "# buatlah sebuah program yang meminta masukkan dari user dan menyimpannyya dalam bentuk\n",
    "# tipe data list dalam bentuk angka. Saat user memasukkan \"done\", maka program akan\n",
    "# menampilkan nilai maksismum dan minimum dari deretan angka yang sudah user masukkan.\n",
    "# Gunakan Fungsi list max() dan min() pada program ini.\n",
    "nilai = []\n",
    "print(\"Masukkan beberapa angka (ketik 'done' saat selesai):\")\n",
    "while True:\n",
    "    masukan = input(\"Masukkan Angka: \")\n",
    "    if masukan.lower() == \"done\":\n",
    "        break\n",
    "    try:\n",
    "        angka = float(masukan)\n",
    "        if angka <= 0:\n",
    "            raise ValueError()\n",
    "        nilai.append(angka)\n",
    "    except:\n",
    "        print(\"Hanya dapat memasukkan angka positif.\")\n",
    "\n",
    "if nilai:\n",
    "    print(\"Kamu sudah selesai memasukkan angkanya jadi:\")\n",
    "    print(\"\\nNilai Max: \", max(nilai), \"\\nNilai Min: \", min(nilai))\n",
    "else:\n",
    "    print(\"Kamu tidak memasukkan angka apa pun.\")"
   ]
  },
  {
   "cell_type": "code",
   "execution_count": 4,
   "metadata": {},
   "outputs": [
    {
     "name": "stdout",
     "output_type": "stream",
     "text": [
      "=================Isi Berita=================\n",
      "Siraman air keras di mata kiri mengharuskan Novel Baswedan diterbangkan ke Singapura untuk menjalani perawatan.\n",
      "Novel dikabarkan operasi di Singapore General Hospital dan sempat memberi keterangan soal sosok jenderal yang diduga menjadi pelaku teror.\n",
      "Usai memberi keterangan, polisi meminta Novel melapor dan mengirimkan tim untuk konfirmasi.\n",
      "Setelah itu, Kapolri yang saat itu dijabat Jenderal Tito Karnavian melaporkan perkembangan dan menunjukkan sketsa pelaku pada Presiden Joko Widodo.\n",
      "\n",
      "=================Kata Unik pada Berita=================\n",
      "['Siraman', 'air', 'keras', 'di', 'mata', 'kiri', 'mengharuskan', 'Novel', 'Baswedan', 'diterbangkan', 'ke', 'Singapura', 'untuk', 'menjalani', 'perawatan.', 'dikabarkan', 'operasi', 'Singapore', 'General', 'Hospital', 'dan', 'sempat', 'memberi', 'keterangan', 'soal', 'sosok', 'jenderal', 'yang', 'diduga', 'menjadi', 'pelaku', 'teror.', 'Usai', 'keterangan,', 'polisi', 'meminta', 'melapor', 'mengirimkan', 'tim', 'konfirmasi.', 'Setelah', 'itu,', 'Kapolri', 'saat', 'itu', 'dijabat', 'Jenderal', 'Tito', 'Karnavian', 'melaporkan', 'perkembangan', 'menunjukkan', 'sketsa', 'pada', 'Presiden', 'Joko', 'Widodo.']\n"
     ]
    }
   ],
   "source": [
    "#9.3\n",
    "# Carilah artikel berita pada media massa online. Simpan dalam bentuk file *.txt.\n",
    "# Buatlah program untuk membaca file *.txt tersebut dan membaca file baris demi baris kalimat.\n",
    "# Untuk setiap kalimat, pecahlah menjadi setiap kata dengan fungsi split(). Simpan kata pada\n",
    "# variable kata dengan tipe data list. Hasil akhir program ialah variable kata akan menyimpan\n",
    "# kata unik pada file berita tersebut. Hasil luaran seperti pada gambar 9.1.\n",
    "with open('beritaleon.txt', 'r') as file:\n",
    "    lines = file.readlines()\n",
    "kataunik = []\n",
    "print(\"=================Isi Berita=================\")\n",
    "\n",
    "for line in lines:\n",
    "    print(line.strip())\n",
    "for line in lines:\n",
    "    kalimat = line.split()\n",
    "    for katakata in kalimat:\n",
    "        if katakata not in kataunik:\n",
    "            kataunik.append(katakata)\n",
    "\n",
    "print(\"\\n=================Kata Unik pada Berita=================\")\n",
    "print(kataunik)"
   ]
  }
 ],
 "metadata": {
  "kernelspec": {
   "display_name": "Python 3",
   "language": "python",
   "name": "python3"
  },
  "language_info": {
   "codemirror_mode": {
    "name": "ipython",
    "version": 3
   },
   "file_extension": ".py",
   "mimetype": "text/x-python",
   "name": "python",
   "nbconvert_exporter": "python",
   "pygments_lexer": "ipython3",
   "version": "3.11.4"
  }
 },
 "nbformat": 4,
 "nbformat_minor": 2
}
